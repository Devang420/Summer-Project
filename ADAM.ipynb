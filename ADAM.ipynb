{
 "cells": [
  {
   "cell_type": "code",
   "execution_count": 1,
   "id": "1aba4717",
   "metadata": {},
   "outputs": [],
   "source": [
    "import numpy as np\n",
    "import matplotlib.pyplot as plt\n"
   ]
  },
  {
   "cell_type": "code",
   "execution_count": 2,
   "id": "f5b3fabb",
   "metadata": {},
   "outputs": [],
   "source": [
    "def func(v): \n",
    "    x, y = v\n",
    "    return (x + y)**2 + 3 * (x - y)**2"
   ]
  },
  {
   "cell_type": "code",
   "execution_count": 7,
   "id": "920a83c5",
   "metadata": {},
   "outputs": [],
   "source": [
    "def f(v):\n",
    "    x, y = v\n",
    "    return np.log(1 + x**2 + y**2)"
   ]
  },
  {
   "cell_type": "code",
   "execution_count": 77,
   "id": "601eb4c2",
   "metadata": {},
   "outputs": [],
   "source": [
    "#creating a noisy function\n",
    "K = 10\n",
    "alpha = 0\n",
    "np.random.seed(27)\n",
    "phi = 1 * np.pi * np.random.rand(K, K)  # fixed phases\n",
    "\n",
    "# Function f(v) = sin(x) + y^2 + noise\n",
    "#changed to f(v) = x^2 + y^2 + noise\n",
    "def func(v):\n",
    "    x, y = v\n",
    "    f_val = x**2 + y**2\n",
    "    #f_val= np.sin(x) + y**2\n",
    "    for k1 in range(K):\n",
    "        for k2 in range(K):\n",
    "            amp = 1.0 / (1 + k1**2 + k2**2)**(alpha / 2)\n",
    "            f_val += 0.05*(amp * np.cos(k1 * x + k2 * y + phi[k1, k2]))\n",
    "    return f_val\n"
   ]
  },
  {
   "cell_type": "code",
   "execution_count": 32,
   "id": "39433e20",
   "metadata": {},
   "outputs": [],
   "source": [
    "def func(v):\n",
    "    x, y = v\n",
    "    return (x**2 - 1)**2 + y**2 "
   ]
  },
  {
   "cell_type": "code",
   "execution_count": 36,
   "id": "30757aa6",
   "metadata": {},
   "outputs": [],
   "source": [
    "def func(v):\n",
    "    x, y, z = v\n",
    "    return x**2 + 2*y**2 + 3*z**2 + 2*x*y + 2*y*z + 2*x*z\n"
   ]
  },
  {
   "cell_type": "code",
   "execution_count": null,
   "id": "01efce1d",
   "metadata": {},
   "outputs": [],
   "source": []
  },
  {
   "cell_type": "code",
   "execution_count": 3,
   "id": "446d6c8e",
   "metadata": {},
   "outputs": [],
   "source": [
    "#calulating the gradient numerically\n",
    "def grad(func, v, h=1e-5):\n",
    "    grad = np.zeros_like(v)\n",
    "    for i in range(len(v)):\n",
    "        v_plus = np.copy(v)\n",
    "        v_minus = np.copy(v)\n",
    "        v_plus[i] += h\n",
    "        v_minus[i] -= h\n",
    "        grad[i] = (func(v_plus) - func(v_minus)) / (2 * h)\n",
    "    return grad"
   ]
  },
  {
   "cell_type": "code",
   "execution_count": 4,
   "id": "266172bb",
   "metadata": {},
   "outputs": [],
   "source": [
    "# Initialize\n",
    "theta = np.array([10.0, -10.0])  # Start far from minimum\n",
    "m = np.zeros_like(theta)\n",
    "v = np.zeros_like(theta)\n",
    "\n",
    "thetas = [theta.copy()]\n",
    "losses = [func(theta)]"
   ]
  },
  {
   "cell_type": "code",
   "execution_count": 8,
   "id": "faf05f32",
   "metadata": {},
   "outputs": [
    {
     "name": "stdout",
     "output_type": "stream",
     "text": [
      "Final coordinates: [ 0.00041426 -0.00041426]\n",
      "Function Value: 2.0593010819340486e-06\n"
     ]
    }
   ],
   "source": [
    "# Adam hyperparameters\n",
    "alpha = 0.3\n",
    "beta1 = 0.9\n",
    "beta2 = 0.999\n",
    "epsilon = 1e-8\n",
    "num_iters = 100\n",
    "\n",
    "#optimisation loop\n",
    "for t in range(1, num_iters + 1):\n",
    "    g = grad(func, theta)\n",
    "\n",
    "    m = beta1 * m + (1 - beta1) * g\n",
    "    v = beta2 * v + (1 - beta2) * (g ** 2)\n",
    "\n",
    "    m_hat = m / (1 - beta1 ** t)\n",
    "    v_hat = v / (1 - beta2 ** t)\n",
    "\n",
    "    theta = theta - alpha * m_hat / (np.sqrt(v_hat) + epsilon)\n",
    "\n",
    "    thetas.append(theta.copy())\n",
    "    losses.append(func(theta))\n",
    "\n",
    "print(\"Final coordinates:\", theta)\n",
    "print(\"Function Value:\", func(theta))\n"
   ]
  },
  {
   "cell_type": "code",
   "execution_count": 3,
   "id": "703c72fa",
   "metadata": {},
   "outputs": [
    {
     "ename": "NameError",
     "evalue": "name 'losses' is not defined",
     "output_type": "error",
     "traceback": [
      "\u001b[31m---------------------------------------------------------------------------\u001b[39m",
      "\u001b[31mNameError\u001b[39m                                 Traceback (most recent call last)",
      "\u001b[36mCell\u001b[39m\u001b[36m \u001b[39m\u001b[32mIn[3]\u001b[39m\u001b[32m, line 2\u001b[39m\n\u001b[32m      1\u001b[39m \u001b[38;5;66;03m# Plot convergence\u001b[39;00m\n\u001b[32m----> \u001b[39m\u001b[32m2\u001b[39m plt.plot(\u001b[43mlosses\u001b[49m)\n\u001b[32m      3\u001b[39m plt.xlabel(\u001b[33m\"\u001b[39m\u001b[33mIteration\u001b[39m\u001b[33m\"\u001b[39m)\n\u001b[32m      4\u001b[39m plt.ylabel(\u001b[33m\"\u001b[39m\u001b[33mFucntion Value\u001b[39m\u001b[33m\"\u001b[39m)\n",
      "\u001b[31mNameError\u001b[39m: name 'losses' is not defined"
     ]
    }
   ],
   "source": [
    "# Plot convergence\n",
    "plt.plot(losses)\n",
    "plt.xlabel(\"Iteration\")\n",
    "plt.ylabel(\"Fucntion Value\")\n",
    "plt.title(\"ADAM function value history\")\n",
    "plt.grid(True)\n",
    "plt.show()\n"
   ]
  }
 ],
 "metadata": {
  "kernelspec": {
   "display_name": "Python 3",
   "language": "python",
   "name": "python3"
  },
  "language_info": {
   "codemirror_mode": {
    "name": "ipython",
    "version": 3
   },
   "file_extension": ".py",
   "mimetype": "text/x-python",
   "name": "python",
   "nbconvert_exporter": "python",
   "pygments_lexer": "ipython3",
   "version": "3.12.6"
  }
 },
 "nbformat": 4,
 "nbformat_minor": 5
}
