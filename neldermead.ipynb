{
 "cells": [
  {
   "cell_type": "code",
   "execution_count": 2,
   "id": "59092669",
   "metadata": {},
   "outputs": [],
   "source": [
    "import numpy as np"
   ]
  },
  {
   "cell_type": "code",
   "execution_count": 7,
   "id": "c1440736",
   "metadata": {},
   "outputs": [],
   "source": [
    "def nelder_mead(f, x_start, step=0.5, tol=1e-6, max_iter=500):\n",
    "    n = len(x_start)\n",
    "    # Initialize simplex\n",
    "    simplex = [x_start]\n",
    "    for i in range(n):\n",
    "        x = np.array(x_start, dtype=float)\n",
    "        x[i] += step\n",
    "        simplex.append(x)\n",
    "    simplex = np.array(simplex)\n",
    "    print(simplex)\n",
    "    for iteration in range(max_iter):\n",
    "        # Sort simplex points by function value\n",
    "        simplex = sorted(simplex, key=f)\n",
    "        f_values = [f(x) for x in simplex]\n",
    "\n",
    "        # Check convergence\n",
    "        if np.std(f_values) < tol:\n",
    "            break\n",
    "\n",
    "        # Compute centroid (excluding worst point)\n",
    "        centroid = np.mean(simplex[:-1], axis=0)\n",
    "\n",
    "        # Reflection\n",
    "        xr = centroid + (centroid - simplex[-1])\n",
    "        fr = f(xr)\n",
    "\n",
    "        if f_values[0] <= fr < f_values[-2]:\n",
    "            simplex[-1] = xr\n",
    "        elif fr < f_values[0]:\n",
    "            # Expansion\n",
    "            xe = centroid + 2 * (xr - centroid)\n",
    "            fe = f(xe)\n",
    "            simplex[-1] = xe if fe < fr else xr\n",
    "        else:\n",
    "            # Contraction\n",
    "            xc1 = simplex[-1] + 0.25 * (xr-simplex[-1] )   \n",
    "            xc3 = simplex[-1] + 0.75 * (xr-simplex[-1] )\n",
    "            fc1 = f(xc1)\n",
    "            fc3 = f(xc3)\n",
    "            xc = 0\n",
    "            fc = 0\n",
    "            if fc1 < fc3:\n",
    "                xc,fc= xc1,fc1\n",
    "            else:\n",
    "                xc,fc = xc3,fc3\n",
    "            if fc < f_values[-1]:\n",
    "                simplex[-1] = xc1\n",
    "            else:\n",
    "                # Shrink\n",
    "                for i in range(1, len(simplex)):\n",
    "                    simplex[i] = simplex[0] + 0.5 * (simplex[i] - simplex[0])\n",
    "\n",
    "    best = min(simplex, key=f)\n",
    "    return best, f(best), iteration + 1\n"
   ]
  },
  {
   "cell_type": "code",
   "execution_count": 7,
   "id": "0d86e849",
   "metadata": {},
   "outputs": [],
   "source": [
    "def funcheck(v):\n",
    "    x,y = v\n",
    "    return (x - 1)**2 + (y - 2)**2  \n"
   ]
  },
  {
   "cell_type": "code",
   "execution_count": 11,
   "id": "7522919b",
   "metadata": {},
   "outputs": [],
   "source": [
    "#creating a noisy function\n",
    "K = 10\n",
    "alpha = 0\n",
    "np.random.seed(27)\n",
    "phi = 1 * np.pi * np.random.rand(K, K)  # fixed phases\n",
    "\n",
    "# Function f(v) = sin(x) + y^2 + noise\n",
    "#changed to f(v) = x^2 + y^2 + noise\n",
    "def f_structured(v):\n",
    "    x, y = v\n",
    "    #f_val= np.sin(x) + y**2\n",
    "    f_val = x**2 + y**2\n",
    "    for k1 in range(K):\n",
    "        for k2 in range(K):\n",
    "            amp = 1.0 / (1 + k1**2 + k2**2)**(alpha / 2)\n",
    "            f_val += 0.05*(amp * np.cos(k1 * x + k2 * y + phi[k1, k2]))\n",
    "    return f_val\n"
   ]
  },
  {
   "cell_type": "code",
   "execution_count": 12,
   "id": "6567376c",
   "metadata": {},
   "outputs": [
    {
     "name": "stdout",
     "output_type": "stream",
     "text": [
      "[[ 10.  -10. ]\n",
      " [ 10.5 -10. ]\n",
      " [ 10.   -9.5]]\n",
      "Minimum at [-0.72239063 -0.50481414], value = 0.21471236957956785, iterations = 42\n"
     ]
    }
   ],
   "source": [
    "x0 = np.array([10,-10])\n",
    "sol, fval, iters = nelder_mead(f_structured, x0)\n",
    "print(f\"Minimum at {sol}, value = {fval}, iterations = {iters}\")"
   ]
  }
 ],
 "metadata": {
  "kernelspec": {
   "display_name": "Python 3",
   "language": "python",
   "name": "python3"
  },
  "language_info": {
   "codemirror_mode": {
    "name": "ipython",
    "version": 3
   },
   "file_extension": ".py",
   "mimetype": "text/x-python",
   "name": "python",
   "nbconvert_exporter": "python",
   "pygments_lexer": "ipython3",
   "version": "3.12.7"
  }
 },
 "nbformat": 4,
 "nbformat_minor": 5
}
