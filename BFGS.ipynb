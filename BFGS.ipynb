{
 "cells": [
  {
   "cell_type": "code",
   "execution_count": 1,
   "id": "ca79e338",
   "metadata": {},
   "outputs": [],
   "source": [
    "import numpy as np\n",
    "import matplotlib.pyplot as plt"
   ]
  },
  {
   "cell_type": "code",
   "execution_count": 2,
   "id": "30169227",
   "metadata": {},
   "outputs": [],
   "source": [
    "def f9(x):\n",
    "    return (1 - x[0])**2 + 100 * (x[1] - x[0]**2)**2\n",
    "\n",
    "def grad_rosenbrock(x):\n",
    "    dfdx = -2*(1 - x[0]) - 400*x[0]*(x[1] - x[0]**2)\n",
    "    dfdy = 200*(x[1] - x[0]**2)\n",
    "    return np.array([dfdx, dfdy])\n",
    "\n",
    "\n"
   ]
  },
  {
   "cell_type": "code",
   "execution_count": 3,
   "id": "92c255b5",
   "metadata": {},
   "outputs": [],
   "source": [
    "def himmelblau(x):\n",
    "    return (x[0]**2 + x[1] - 11)**2 + (x[0] + x[1]**2 - 7)**2\n",
    "\n",
    "def grad_himmelblau(x):\n",
    "    dx = 4*x[0]*(x[0]**2 + x[1] - 11) + 2*(x[0] + x[1]**2 - 7)\n",
    "    dy = 2*(x[0]**2 + x[1] - 11) + 4*x[1]*(x[0] + x[1]**2 - 7)\n",
    "    return np.array([dx, dy])\n"
   ]
  },
  {
   "cell_type": "code",
   "execution_count": 15,
   "id": "e0dbd1c0",
   "metadata": {},
   "outputs": [],
   "source": [
    "#z=0.26(x1^2 + x2^2) - 0.48*x1*x2 , having a global minimum at (0, 0)\n",
    "def matyas(x):\n",
    "    return 0.26 * (x[0]**2 + x[1]**2) - 0.48 * x[0] * x[1]\n",
    "\n",
    "def grad_matyas(x):\n",
    "    dx = 0.52 * x[0] - 0.48 * x[1]\n",
    "    dy = 0.52 * x[1] - 0.48 * x[0]\n",
    "    return np.array([dx, dy])\n"
   ]
  },
  {
   "cell_type": "code",
   "execution_count": 28,
   "id": "b2565cd1",
   "metadata": {},
   "outputs": [],
   "source": [
    "def booth(x):\n",
    "    x1, x2 = x\n",
    "    return (x1 + 2*x2 - 7)**2 + (2*x1 + x2 - 5)**2\n",
    "\n",
    "def grad_booth(x):\n",
    "    x1, x2 = x\n",
    "    df_dx1 = 2*(x1 + 2*x2 - 7) + 4*(2*x1 + x2 - 5)\n",
    "    df_dx2 = 4*(x1 + 2*x2 - 7) + 2*(2*x1 + x2 - 5)\n",
    "    return np.array([df_dx1, df_dx2])\n"
   ]
  },
  {
   "cell_type": "code",
   "execution_count": null,
   "id": "94a8fede",
   "metadata": {},
   "outputs": [],
   "source": [
    "#z=100(y-x^2)^2+(1-x)^2+sin(5*x)^2 \n",
    "def func(x):\n",
    "    x1, x2 = x\n",
    "    return 100 * (x2 - x1**2)**2 + (1 - x1)**2 + np.sin(5 * x1)**2\n",
    "\n",
    "def grad_func(x):\n",
    "    x1, x2 = x\n",
    "    df_dx1 = -400 * x1 * (x2 - x1**2) - 2 * (1 - x1) + 10 * np.sin(5 * x1) * np.cos(5 * x1)\n",
    "    df_dx2 = 200 * (x2 - x1**2)\n",
    "    return np.array([df_dx1, df_dx2])\n"
   ]
  },
  {
   "cell_type": "code",
   "execution_count": 15,
   "id": "66ddde89",
   "metadata": {},
   "outputs": [],
   "source": [
    "def f1(v):\n",
    "    x, y = v\n",
    "    return 8 * x**3 + 12 * x**2 * y + 6 * y**2 - 10 * x + 5 * y + 7 \n",
    "def grad_f1(v):\n",
    "    x, y = v\n",
    "    return np.array([24 * x**2 + 24 * x * y - 10, 12 * x**2 + 12 * y + 5])"
   ]
  },
  {
   "cell_type": "code",
   "execution_count": 25,
   "id": "e7ca726e",
   "metadata": {},
   "outputs": [],
   "source": [
    "def f2(v):\n",
    "    x, y = v\n",
    "    return np.exp(x) + np.exp(y) + x**2 + y**2\n",
    "def grad_f2(v):\n",
    "    x, y = v\n",
    "    return np.array([np.exp(x) + 2 * x, np.exp(y) + 2 * y])"
   ]
  },
  {
   "cell_type": "code",
   "execution_count": 24,
   "id": "3d2fa7c3",
   "metadata": {},
   "outputs": [],
   "source": [
    "#z=log(1+x**2+y**2)\n",
    "def f3(v):\n",
    "    x, y = v\n",
    "    return np.log(1 + x**2 + y**2)\n",
    "def grad_f3(v):\n",
    "    x, y = v\n",
    "    denom = 1 + x**2 + y**2\n",
    "    return np.array([2 * x / denom, 2 * y / denom])"
   ]
  },
  {
   "cell_type": "code",
   "execution_count": 18,
   "id": "1a732497",
   "metadata": {},
   "outputs": [],
   "source": [
    "#z=( x + y )**2 + 3( x – y )**2   \n",
    "def f4(v): \n",
    "    x, y = v\n",
    "    return (x + y)**2 + 3 * (x - y)**2\n",
    "def grad_f4(v):\n",
    "    x, y = v\n",
    "    return np.array([2 * (x + y) + 6 * (x - y), 2 * (x + y) - 6 * (x - y)])"
   ]
  },
  {
   "cell_type": "code",
   "execution_count": 3,
   "id": "54539950",
   "metadata": {},
   "outputs": [],
   "source": [
    "def f5(v):\n",
    "    x, y = v\n",
    "    return (x - 3)**2 + (y - 2)**2  "
   ]
  },
  {
   "cell_type": "code",
   "execution_count": 31,
   "id": "ca129e29",
   "metadata": {},
   "outputs": [],
   "source": [
    "def f6(v):\n",
    "    x, y = v\n",
    "    return np.exp(x) + np.exp(y) + x**2 + y**2"
   ]
  },
  {
   "cell_type": "code",
   "execution_count": 37,
   "id": "948987e4",
   "metadata": {},
   "outputs": [],
   "source": [
    "#creating a noisy function\n",
    "K = 10\n",
    "alpha = 0\n",
    "np.random.seed(27)\n",
    "phi = 1 * np.pi * np.random.rand(K, K)  # fixed phases\n",
    "\n",
    "# Function f(v) = sin(x) + y^2 + noise\n",
    "#changed to f(v) = x^2 + y^2 + noise\n",
    "def f_structured(v):\n",
    "    x, y = v\n",
    "    f_val = x**2 + y**2\n",
    "    for k1 in range(K):\n",
    "        for k2 in range(K):\n",
    "            amp = 1.0 / (1 + k1**2 + k2**2)**(alpha / 2)\n",
    "            f_val += 0.05*(amp * np.cos(k1 * x + k2 * y + phi[k1, k2]))\n",
    "    return f_val\n"
   ]
  },
  {
   "cell_type": "code",
   "execution_count": 26,
   "id": "13b8d412",
   "metadata": {},
   "outputs": [],
   "source": [
    "#z=8*x**3 + 12*x**2*y + 6*y**2 - 10*x + 5*y + 7\n",
    "def f5(v):\n",
    "    x, y = v\n",
    "    return 8 * x**3 + 12 * x**2 * y + 6 * y**2 - 10 * x + 5 * y + 7 \n",
    "def grad_f5(v):\n",
    "    x, y = v\n",
    "    return np.array([24 * x**2 + 24 * x * y - 10, 12 * x**2 + 12 * y + 5])"
   ]
  },
  {
   "cell_type": "code",
   "execution_count": null,
   "id": "76e90811",
   "metadata": {},
   "outputs": [],
   "source": [
    "#writing a common gradient function that calculates gradient numerically \n",
    "def grad_numerical(func, v, h=1e-7):\n",
    "    grad = np.zeros_like(v)\n",
    "    for i in range(len(v)):\n",
    "        v_plus = np.copy(v)\n",
    "        v_minus = np.copy(v)\n",
    "        v_plus[i] += h\n",
    "        v_minus[i] -= h\n",
    "        grad[i] = (func(v_plus) - func(v_minus)) / (2 * h)\n",
    "    return grad"
   ]
  },
  {
   "cell_type": "code",
   "execution_count": 35,
   "id": "f5ad2a77",
   "metadata": {},
   "outputs": [],
   "source": [
    "def bfgs(f, grad_f, x0, tol=1e-6, max_iter=100):\n",
    "    x = x0.astype(float)\n",
    "    trajectory = [x.copy()]\n",
    "    n = len(x)\n",
    "    H = np.eye(n)\n",
    "    epsilon = 1e-10\n",
    "    damping = 1e-4\n",
    "\n",
    "    history = [f(x)] \n",
    "    direction_norms = []  # <-- new\n",
    "\n",
    "    for i in range(max_iter):\n",
    "        grad = grad_f(x)\n",
    "        if np.linalg.norm(grad) < tol:\n",
    "            print(f\"Converged in {i} iterations.\")\n",
    "            break\n",
    "\n",
    "        p = -H @ grad\n",
    "        direction_norms.append(np.linalg.norm(p))  # <-- store norm of direction\n",
    "\n",
    "        # Backtracking line search\n",
    "        alpha = 1.0\n",
    "        c, rho = 1e-4, 0.5\n",
    "        while f(x + alpha * p) > f(x) + c * alpha * grad @ p:\n",
    "            alpha *= rho\n",
    "\n",
    "        x_new = x + alpha * p\n",
    "        s = x_new - x\n",
    "        y = grad_f(x_new) - grad\n",
    "\n",
    "        ys = y @ s\n",
    "        if ys < epsilon:\n",
    "            y_damped = y + damping * s\n",
    "            ys_damped = y_damped @ s\n",
    "            if ys_damped < epsilon:\n",
    "                print(f\"Skipping update at iter {i}: even damped y.T@s is too small.\")\n",
    "                x = x_new\n",
    "                history.append(f(x))\n",
    "                continue\n",
    "            else:\n",
    "                y = y_damped\n",
    "                ys = ys_damped\n",
    "\n",
    "        rho = 1.0 / ys\n",
    "        I = np.eye(n)\n",
    "        H = (I - rho * np.outer(s, y)) @ H @ (I - rho * np.outer(y, s)) + rho * np.outer(s, s)\n",
    "\n",
    "        x = x_new\n",
    "        trajectory.append(x.copy())\n",
    "        history.append(f(x))\n",
    "\n",
    "    print(\"Final point:\", x)\n",
    "    print(\"Final function value:\", f(x))\n",
    "    return x, history, trajectory, direction_norms  # <-- return norms too\n"
   ]
  },
  {
   "cell_type": "code",
   "execution_count": 10,
   "id": "abd97218",
   "metadata": {},
   "outputs": [],
   "source": [
    "def plot_function_history(history):\n",
    "    plt.figure(figsize=(6, 4))\n",
    "    plt.plot(history, marker='o')\n",
    "    plt.xlabel(\"Iteration\")\n",
    "    plt.ylabel(\"f(x)\")\n",
    "    plt.title(\"BFGS Function Value History\")\n",
    "    plt.grid(True)\n",
    "    plt.tight_layout()\n",
    "    plt.show()\n"
   ]
  },
  {
   "cell_type": "code",
   "execution_count": 16,
   "id": "f72293db",
   "metadata": {},
   "outputs": [],
   "source": [
    "def plot_direction_norms(direction_norms):\n",
    "    plt.figure(figsize=(6, 4))\n",
    "    iters = list(range(len(direction_norms)))\n",
    "    plt.plot(iters, direction_norms, marker='o', color='orange')\n",
    "    plt.xlabel(\"Iteration\")\n",
    "    plt.ylabel(\"Norm of search direction\")\n",
    "    plt.title(\"BFGS Direction Norm per Iteration\")\n",
    "    plt.xticks(iters)  # Explicitly use integer ticks\n",
    "    plt.grid(True)\n",
    "    plt.tight_layout()\n",
    "    plt.show()\n"
   ]
  },
  {
   "cell_type": "code",
   "execution_count": 7,
   "id": "b629fcea",
   "metadata": {},
   "outputs": [],
   "source": [
    "def plot_trajectory(f, trajectory, levels=50):\n",
    "    trajectory = np.array(trajectory)\n",
    "    x_vals = trajectory[:, 0]\n",
    "    y_vals = trajectory[:, 1]\n",
    "\n",
    "    # Create grid for contour plot\n",
    "    xgrid = np.linspace(-20, 20, 200)\n",
    "    ygrid = np.linspace(-20,20, 200)\n",
    "    X, Y = np.meshgrid(xgrid, ygrid)\n",
    "    Z = np.array([[f([x, y]) for x in xgrid] for y in ygrid])\n",
    "\n",
    "    plt.figure(figsize=(6, 6))\n",
    "    plt.contour(X, Y, Z, levels=levels, cmap='viridis')\n",
    "    plt.plot(x_vals, y_vals, marker='o', color='r', linewidth=2, label='BFGS Path')\n",
    "    plt.scatter(x_vals[0], y_vals[0], color='blue', label='Start')\n",
    "    plt.scatter(x_vals[-1], y_vals[-1], color='green', label='End')\n",
    "    plt.xlabel(\"x\")\n",
    "    plt.ylabel(\"y\")\n",
    "    plt.title(\"BFGS Trajectory\")\n",
    "    plt.legend()\n",
    "    plt.grid(True)\n",
    "    plt.tight_layout()\n",
    "    plt.show()\n"
   ]
  },
  {
   "cell_type": "code",
   "execution_count": 39,
   "id": "435fef97",
   "metadata": {},
   "outputs": [
    {
     "name": "stdout",
     "output_type": "stream",
     "text": [
      "Skipping update at iter 2: even damped y.T@s is too small.\n",
      "Skipping update at iter 10: even damped y.T@s is too small.\n",
      "Converged in 11 iterations.\n",
      "Final point: [0.09623929 0.16964515]\n",
      "Final function value: -2.8619883232108974\n"
     ]
    },
    {
     "data": {
      "image/png": "[encoded data removed]",
      "text/plain": [
       "<Figure size 600x400 with 1 Axes>"
      ]
     },
     "metadata": {},
     "output_type": "display_data"
    },
    {
     "data": {
      "image/png": "[encoded data removed]",
      "text/plain": [
       "<Figure size 600x400 with 1 Axes>"
      ]
     },
     "metadata": {},
     "output_type": "display_data"
    }
   ],
   "source": [
    "x0 = np.array([10, -10])\n",
    "solution, history, trajectoryhistory, direction_norms = bfgs(f_structured, lambda x: grad_numerical(f_structured, x), x0)\n",
    "\n",
    "plot_function_history(history)\n",
    "plot_direction_norms(direction_norms)\n",
    "#plot_trajectory(f5, trajectoryhistory)\n"
   ]
  }
 ],
 "metadata": {
  "kernelspec": {
   "display_name": "Python 3",
   "language": "python",
   "name": "python3"
  },
  "language_info": {
   "codemirror_mode": {
    "name": "ipython",
    "version": 3
   },
   "file_extension": ".py",
   "mimetype": "text/x-python",
   "name": "python",
   "nbconvert_exporter": "python",
   "pygments_lexer": "ipython3",
   "version": "3.12.6"
  }
 },
 "nbformat": 4,
 "nbformat_minor": 5
}
