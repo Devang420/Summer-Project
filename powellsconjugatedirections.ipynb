{
 "cells": [
  {
   "cell_type": "code",
   "execution_count": 1,
   "id": "371f0577",
   "metadata": {},
   "outputs": [],
   "source": [
    "import numpy as np\n",
    "import matplotlib.pyplot as plt"
   ]
  },
  {
   "cell_type": "code",
   "execution_count": 2,
   "id": "856065ad",
   "metadata": {},
   "outputs": [],
   "source": [
    "#z=(1-x)**2 + 100*(y-x**2)**2\n",
    "def rosenbrock(x):\n",
    "    return (1 - x[0])**2 + 100 * (x[1] - x[0]**2)**2"
   ]
  },
  {
   "cell_type": "code",
   "execution_count": 3,
   "id": "59b4dc04",
   "metadata": {},
   "outputs": [],
   "source": [
    "def golden_section_search(phi, a, b, tol=1e-5, max_iter=100):\n",
    "    gr = (np.sqrt(5) + 1) / 2  # golden ratio\n",
    "\n",
    "    c = b - (b - a) / gr\n",
    "    d = a + (b - a) / gr\n",
    "\n",
    "    for _ in range(max_iter):\n",
    "        if abs(b - a) < tol:\n",
    "            break\n",
    "\n",
    "        if phi(c) < phi(d):\n",
    "            b = d\n",
    "        else:\n",
    "            a = c\n",
    "\n",
    "        c = b - (b - a) / gr\n",
    "        d = a + (b - a) / gr\n",
    "\n",
    "    return (b + a) / 2  # estimated minimizer alpha"
   ]
  },
  {
   "cell_type": "code",
   "execution_count": 4,
   "id": "615f71c7",
   "metadata": {},
   "outputs": [],
   "source": [
    "def line_minimization(f, x, direction, a=-5, b=5, tol=1e-5):\n",
    "    phi = lambda alpha: f(x + alpha * direction)\n",
    "    return golden_section_search(phi, a, b, tol)"
   ]
  },
  {
   "cell_type": "code",
   "execution_count": 5,
   "id": "3017fed1",
   "metadata": {},
   "outputs": [],
   "source": [
    "def powells_method(f, x0, tol=1e-6, max_iter=100):\n",
    "    n = len(x0)\n",
    "    x = x0.copy()\n",
    "    directions = np.eye(n)  # initial directions = standard basis\n",
    "    f_values = [f(x)]\n",
    "    path = [x.copy()]\n",
    "\n",
    "\n",
    "    for iteration in range(max_iter):\n",
    "        x_start = x.copy()\n",
    "        f_start = f(x)\n",
    "        max_decrease = 0\n",
    "        max_dir_idx = -1\n",
    "\n",
    "        for i in range(n):\n",
    "            direction = directions[i]\n",
    "            alpha = line_minimization(f, x, direction)\n",
    "            x_new = x + alpha * direction\n",
    "            f_new = f(x_new)\n",
    "\n",
    "            decrease = f(x) - f_new\n",
    "            if decrease > max_decrease:\n",
    "                max_decrease = decrease\n",
    "                max_dir_idx = i\n",
    "\n",
    "            x = x_new\n",
    "            path.append(x.copy())\n",
    "\n",
    "\n",
    "        # Net movement direction\n",
    "        new_direction = x - x_start\n",
    "        alpha = line_minimization(f, x, new_direction)\n",
    "        x_new = x + alpha * new_direction\n",
    "        f_new = f(x_new)\n",
    "\n",
    "        # Replace direction with max decrease\n",
    "        if max_dir_idx >= 0:\n",
    "            directions[max_dir_idx] = new_direction\n",
    "\n",
    "        x = x_new\n",
    "        f_values.append(f(x))\n",
    "        path.append(x.copy())\n",
    "\n",
    "\n",
    "        if np.linalg.norm(x - x_start) < tol:\n",
    "            print(f\"Converged in {iteration + 1} iterations.\")\n",
    "            break\n",
    "\n",
    "    print(f\"Final point: {x}\")\n",
    "    print(f\"Final function value: {f(x)}\")\n",
    "    return x, f_values, np.array(path)\n"
   ]
  },
  {
   "cell_type": "code",
   "execution_count": 6,
   "id": "7790a567",
   "metadata": {},
   "outputs": [
    {
     "name": "stdout",
     "output_type": "stream",
     "text": [
      "Converged in 10 iterations.\n",
      "Final point: [1. 1.]\n",
      "Final function value: 6.847552483655344e-21\n"
     ]
    }
   ],
   "source": [
    "x0 = np.array([-1.89, 1.04])\n",
    "solution, f_vals, path = powells_method(rosenbrock, x0)"
   ]
  }
 ],
 "metadata": {
  "kernelspec": {
   "display_name": "Python 3",
   "language": "python",
   "name": "python3"
  },
  "language_info": {
   "codemirror_mode": {
    "name": "ipython",
    "version": 3
   },
   "file_extension": ".py",
   "mimetype": "text/x-python",
   "name": "python",
   "nbconvert_exporter": "python",
   "pygments_lexer": "ipython3",
   "version": "3.12.7"
  }
 },
 "nbformat": 4,
 "nbformat_minor": 5
}
