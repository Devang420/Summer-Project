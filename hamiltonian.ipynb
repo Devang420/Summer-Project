{
 "cells": [
  {
   "cell_type": "code",
   "execution_count": 2,
   "id": "2c67d52c",
   "metadata": {},
   "outputs": [
    {
     "name": "stdout",
     "output_type": "stream",
     "text": [
      "Ground state energy: -3.661\n"
     ]
    }
   ],
   "source": [
    "import numpy as np\n",
    "from functools import reduce\n",
    "from scipy.sparse import kron, identity, csr_matrix\n",
    "from scipy.sparse.linalg import eigsh  # for sparse Hermitian eigensolver\n",
    "\n",
    "# Define Pauli Z as sparse matrix\n",
    "Z = csr_matrix(np.array([[1, 0], [0, -1]], dtype=np.float64))\n",
    "I = identity(2, format='csr')\n",
    "\n",
    "# Number of qubits\n",
    "n_qubits = 10\n",
    "\n",
    "# Define list of (coefficient, qubit1, qubit2)\n",
    "terms = [\n",
    "    (0.425, 6, 8),\n",
    "    (0.770, 0, 8),\n",
    "    (0.639, 0, 2),\n",
    "    (0.559, 2, 3),\n",
    "    (0.294, 1, 8),\n",
    "    (0.294, 1, 7),\n",
    "    (0.235, 0, 9),\n",
    "    (0.720, 0, 7),\n",
    "    (0.561, 4, 9),\n",
    "    (0.625, 0, 6),\n",
    "    (0.212, 3, 7),\n",
    "    (0.782, 0, 3),\n",
    "    (0.699, 7, 8),\n",
    "    (0.327, 5, 6),\n",
    "    (0.309, 5, 8)\n",
    "]\n",
    "\n",
    "# Helper to create two-qubit ZZ operator on n_qubits\n",
    "def make_zz_term(q1, q2, n_qubits):\n",
    "    ops = []\n",
    "    for i in range(n_qubits):\n",
    "        if i == q1 or i == q2:\n",
    "            ops.append(Z)\n",
    "        else:\n",
    "            ops.append(I)\n",
    "    return reduce(kron, ops)\n",
    "\n",
    "# Build Hamiltonian\n",
    "H = csr_matrix((2**n_qubits, 2**n_qubits), dtype=np.float64)\n",
    "for coeff, q1, q2 in terms:\n",
    "    H += coeff * make_zz_term(q1, q2, n_qubits)\n",
    "\n",
    "# Compute lowest eigenvalue (ground state energy)\n",
    "# eigsh is more efficient than full diagonalization\n",
    "ground_energy = eigsh(H, k=1, which='SA', return_eigenvectors=False)[0]\n",
    "\n",
    "print(\"Ground state energy:\", ground_energy)\n"
   ]
  }
 ],
 "metadata": {
  "kernelspec": {
   "display_name": "Python 3",
   "language": "python",
   "name": "python3"
  },
  "language_info": {
   "codemirror_mode": {
    "name": "ipython",
    "version": 3
   },
   "file_extension": ".py",
   "mimetype": "text/x-python",
   "name": "python",
   "nbconvert_exporter": "python",
   "pygments_lexer": "ipython3",
   "version": "3.12.6"
  }
 },
 "nbformat": 4,
 "nbformat_minor": 5
}
